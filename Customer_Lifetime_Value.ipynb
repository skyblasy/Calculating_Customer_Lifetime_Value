{
 "cells": [
  {
   "cell_type": "markdown",
   "metadata": {},
   "source": [
    "# Calculate Customer Lifetime Value"
   ]
  },
  {
   "cell_type": "code",
   "execution_count": 41,
   "metadata": {},
   "outputs": [
    {
     "data": {
      "text/html": [
       "<div>\n",
       "<style scoped>\n",
       "    .dataframe tbody tr th:only-of-type {\n",
       "        vertical-align: middle;\n",
       "    }\n",
       "\n",
       "    .dataframe tbody tr th {\n",
       "        vertical-align: top;\n",
       "    }\n",
       "\n",
       "    .dataframe thead th {\n",
       "        text-align: right;\n",
       "    }\n",
       "</style>\n",
       "<table border=\"1\" class=\"dataframe\">\n",
       "  <thead>\n",
       "    <tr style=\"text-align: right;\">\n",
       "      <th></th>\n",
       "      <th>InvoiceNo</th>\n",
       "      <th>StockCode</th>\n",
       "      <th>Description</th>\n",
       "      <th>Quantity</th>\n",
       "      <th>InvoiceDate</th>\n",
       "      <th>UnitPrice</th>\n",
       "      <th>CustomerID</th>\n",
       "      <th>Country</th>\n",
       "    </tr>\n",
       "  </thead>\n",
       "  <tbody>\n",
       "    <tr>\n",
       "      <th>0</th>\n",
       "      <td>536365</td>\n",
       "      <td>85123A</td>\n",
       "      <td>WHITE HANGING HEART T-LIGHT HOLDER</td>\n",
       "      <td>6</td>\n",
       "      <td>2010-12-01 08:26:00</td>\n",
       "      <td>2.55</td>\n",
       "      <td>17850.0</td>\n",
       "      <td>United Kingdom</td>\n",
       "    </tr>\n",
       "    <tr>\n",
       "      <th>1</th>\n",
       "      <td>536365</td>\n",
       "      <td>71053</td>\n",
       "      <td>WHITE METAL LANTERN</td>\n",
       "      <td>6</td>\n",
       "      <td>2010-12-01 08:26:00</td>\n",
       "      <td>3.39</td>\n",
       "      <td>17850.0</td>\n",
       "      <td>United Kingdom</td>\n",
       "    </tr>\n",
       "    <tr>\n",
       "      <th>2</th>\n",
       "      <td>536365</td>\n",
       "      <td>84406B</td>\n",
       "      <td>CREAM CUPID HEARTS COAT HANGER</td>\n",
       "      <td>8</td>\n",
       "      <td>2010-12-01 08:26:00</td>\n",
       "      <td>2.75</td>\n",
       "      <td>17850.0</td>\n",
       "      <td>United Kingdom</td>\n",
       "    </tr>\n",
       "    <tr>\n",
       "      <th>3</th>\n",
       "      <td>536365</td>\n",
       "      <td>84029G</td>\n",
       "      <td>KNITTED UNION FLAG HOT WATER BOTTLE</td>\n",
       "      <td>6</td>\n",
       "      <td>2010-12-01 08:26:00</td>\n",
       "      <td>3.39</td>\n",
       "      <td>17850.0</td>\n",
       "      <td>United Kingdom</td>\n",
       "    </tr>\n",
       "    <tr>\n",
       "      <th>4</th>\n",
       "      <td>536365</td>\n",
       "      <td>84029E</td>\n",
       "      <td>RED WOOLLY HOTTIE WHITE HEART.</td>\n",
       "      <td>6</td>\n",
       "      <td>2010-12-01 08:26:00</td>\n",
       "      <td>3.39</td>\n",
       "      <td>17850.0</td>\n",
       "      <td>United Kingdom</td>\n",
       "    </tr>\n",
       "  </tbody>\n",
       "</table>\n",
       "</div>"
      ],
      "text/plain": [
       "  InvoiceNo StockCode                          Description  Quantity  \\\n",
       "0    536365    85123A   WHITE HANGING HEART T-LIGHT HOLDER         6   \n",
       "1    536365     71053                  WHITE METAL LANTERN         6   \n",
       "2    536365    84406B       CREAM CUPID HEARTS COAT HANGER         8   \n",
       "3    536365    84029G  KNITTED UNION FLAG HOT WATER BOTTLE         6   \n",
       "4    536365    84029E       RED WOOLLY HOTTIE WHITE HEART.         6   \n",
       "\n",
       "          InvoiceDate  UnitPrice  CustomerID         Country  \n",
       "0 2010-12-01 08:26:00       2.55     17850.0  United Kingdom  \n",
       "1 2010-12-01 08:26:00       3.39     17850.0  United Kingdom  \n",
       "2 2010-12-01 08:26:00       2.75     17850.0  United Kingdom  \n",
       "3 2010-12-01 08:26:00       3.39     17850.0  United Kingdom  \n",
       "4 2010-12-01 08:26:00       3.39     17850.0  United Kingdom  "
      ]
     },
     "execution_count": 41,
     "metadata": {},
     "output_type": "execute_result"
    }
   ],
   "source": [
    "#Import necessary libraries\n",
    "import pandas as pd\n",
    "import matplotlib as plt\n",
    "\n",
    "\n",
    "#Import Data\n",
    "#tx_data=pd.read_excel(\"Online Retail.xlsx\", encoding=\"cp1252\")\n",
    "tx_data=pd.read_excel(\"Online Retail.xlsx\")\n",
    "tx_data.head()"
   ]
  },
  {
   "cell_type": "code",
   "execution_count": 42,
   "metadata": {},
   "outputs": [
    {
     "data": {
      "text/plain": [
       "(541909, 8)"
      ]
     },
     "execution_count": 42,
     "metadata": {},
     "output_type": "execute_result"
    }
   ],
   "source": [
    "#Check the shape (number of columns and rows) in the dataset\n",
    "tx_data.shape"
   ]
  },
  {
   "cell_type": "code",
   "execution_count": 43,
   "metadata": {
    "scrolled": true
   },
   "outputs": [
    {
     "data": {
      "text/plain": [
       "InvoiceNo           0\n",
       "StockCode           0\n",
       "Description      1454\n",
       "Quantity            0\n",
       "InvoiceDate         0\n",
       "UnitPrice           0\n",
       "CustomerID     135080\n",
       "Country             0\n",
       "dtype: int64"
      ]
     },
     "execution_count": 43,
     "metadata": {},
     "output_type": "execute_result"
    }
   ],
   "source": [
    "#Find out missing values\n",
    "tx_data.isnull().sum(axis=0)"
   ]
  },
  {
   "cell_type": "code",
   "execution_count": 44,
   "metadata": {},
   "outputs": [
    {
     "data": {
      "text/plain": [
       "InvoiceNo      0.000000\n",
       "StockCode      0.000000\n",
       "Description    0.002683\n",
       "Quantity       0.000000\n",
       "InvoiceDate    0.000000\n",
       "UnitPrice      0.000000\n",
       "CustomerID     0.249267\n",
       "Country        0.000000\n",
       "dtype: float64"
      ]
     },
     "execution_count": 44,
     "metadata": {},
     "output_type": "execute_result"
    }
   ],
   "source": [
    "# Proportion that are null\n",
    "tx_data.isna().sum()/len(tx_data)"
   ]
  },
  {
   "cell_type": "code",
   "execution_count": 45,
   "metadata": {},
   "outputs": [
    {
     "data": {
      "text/plain": [
       "<AxesSubplot:>"
      ]
     },
     "execution_count": 45,
     "metadata": {},
     "output_type": "execute_result"
    },
    {
     "data": {
      "image/png": "[encoded data removed]",
      "text/plain": [
       "<Figure size 800x550 with 1 Axes>"
      ]
     },
     "metadata": {},
     "output_type": "display_data"
    }
   ],
   "source": [
    "# visual inspection of nulls\n",
    "sns.heatmap(tx_data.isna(), cbar = False, cmap=\"Blues_r\")"
   ]
  },
  {
   "cell_type": "code",
   "execution_count": 46,
   "metadata": {},
   "outputs": [
    {
     "data": {
      "text/html": [
       "<div>\n",
       "<style scoped>\n",
       "    .dataframe tbody tr th:only-of-type {\n",
       "        vertical-align: middle;\n",
       "    }\n",
       "\n",
       "    .dataframe tbody tr th {\n",
       "        vertical-align: top;\n",
       "    }\n",
       "\n",
       "    .dataframe thead th {\n",
       "        text-align: right;\n",
       "    }\n",
       "</style>\n",
       "<table border=\"1\" class=\"dataframe\">\n",
       "  <thead>\n",
       "    <tr style=\"text-align: right;\">\n",
       "      <th></th>\n",
       "      <th>CustomerID</th>\n",
       "      <th>InvoiceDate</th>\n",
       "      <th>Total_Sales</th>\n",
       "    </tr>\n",
       "  </thead>\n",
       "  <tbody>\n",
       "    <tr>\n",
       "      <th>0</th>\n",
       "      <td>17850.0</td>\n",
       "      <td>2010-12-01</td>\n",
       "      <td>15.30</td>\n",
       "    </tr>\n",
       "    <tr>\n",
       "      <th>1</th>\n",
       "      <td>17850.0</td>\n",
       "      <td>2010-12-01</td>\n",
       "      <td>20.34</td>\n",
       "    </tr>\n",
       "    <tr>\n",
       "      <th>2</th>\n",
       "      <td>17850.0</td>\n",
       "      <td>2010-12-01</td>\n",
       "      <td>22.00</td>\n",
       "    </tr>\n",
       "    <tr>\n",
       "      <th>3</th>\n",
       "      <td>17850.0</td>\n",
       "      <td>2010-12-01</td>\n",
       "      <td>20.34</td>\n",
       "    </tr>\n",
       "    <tr>\n",
       "      <th>4</th>\n",
       "      <td>17850.0</td>\n",
       "      <td>2010-12-01</td>\n",
       "      <td>20.34</td>\n",
       "    </tr>\n",
       "  </tbody>\n",
       "</table>\n",
       "</div>"
      ],
      "text/plain": [
       "   CustomerID InvoiceDate  Total_Sales\n",
       "0     17850.0  2010-12-01        15.30\n",
       "1     17850.0  2010-12-01        20.34\n",
       "2     17850.0  2010-12-01        22.00\n",
       "3     17850.0  2010-12-01        20.34\n",
       "4     17850.0  2010-12-01        20.34"
      ]
     },
     "execution_count": 46,
     "metadata": {},
     "output_type": "execute_result"
    }
   ],
   "source": [
    "#Remove time from date\n",
    "tx_data['InvoiceDate'] = pd.to_datetime(tx_data['InvoiceDate'], format=\"%m/%d/%Y %H:%M\").dt.date\n",
    "\n",
    "#There are 135,080 missing values in the CustomerID column, and since our analysis is based on customers, \n",
    "#we will remove these missing values.\n",
    "tx_data = tx_data[pd.notnull(tx_data['CustomerID'])]\n",
    "\n",
    "#Keep records with non negative quantity\n",
    "tx_data = tx_data[(tx_data['Quantity']>0)]\n",
    "\n",
    "#Add a new column depicting total sales\n",
    "tx_data['Total_Sales'] = tx_data['Quantity'] * tx_data['UnitPrice']\n",
    "necessary_cols = ['CustomerID', 'InvoiceDate', 'Total_Sales']\n",
    "tx_data = tx_data[necessary_cols]\n",
    "tx_data.head()"
   ]
  },
  {
   "cell_type": "code",
   "execution_count": 5,
   "metadata": {},
   "outputs": [
    {
     "name": "stdout",
     "output_type": "stream",
     "text": [
      "4339\n"
     ]
    }
   ],
   "source": [
    "#Print records pertaining unique Customer IDs\n",
    "print(tx_data['CustomerID'].nunique())"
   ]
  },
  {
   "cell_type": "code",
   "execution_count": 6,
   "metadata": {},
   "outputs": [
    {
     "name": "stdout",
     "output_type": "stream",
     "text": [
      "2011-12-09\n",
      "--------------------------------------\n",
      "       CustomerID InvoiceDate  Total_Sales\n",
      "61619     12346.0  2011-01-18      77183.6\n"
     ]
    }
   ],
   "source": [
    "#Check the Last order date\n",
    "last_order_date = tx_data['InvoiceDate'].max()\n",
    "print(last_order_date)\n",
    "print(\"--------------------------------------\")\n",
    "print(tx_data[(tx_data['CustomerID']==12346)])"
   ]
  },
  {
   "cell_type": "code",
   "execution_count": 7,
   "metadata": {
    "scrolled": true
   },
   "outputs": [
    {
     "data": {
      "text/html": [
       "<div>\n",
       "<style scoped>\n",
       "    .dataframe tbody tr th:only-of-type {\n",
       "        vertical-align: middle;\n",
       "    }\n",
       "\n",
       "    .dataframe tbody tr th {\n",
       "        vertical-align: top;\n",
       "    }\n",
       "\n",
       "    .dataframe thead th {\n",
       "        text-align: right;\n",
       "    }\n",
       "</style>\n",
       "<table border=\"1\" class=\"dataframe\">\n",
       "  <thead>\n",
       "    <tr style=\"text-align: right;\">\n",
       "      <th></th>\n",
       "      <th>CustomerID</th>\n",
       "      <th>frequency</th>\n",
       "      <th>recency</th>\n",
       "      <th>T</th>\n",
       "      <th>monetary_value</th>\n",
       "    </tr>\n",
       "  </thead>\n",
       "  <tbody>\n",
       "    <tr>\n",
       "      <th>0</th>\n",
       "      <td>12346.0</td>\n",
       "      <td>0.0</td>\n",
       "      <td>0.0</td>\n",
       "      <td>325.0</td>\n",
       "      <td>0.000000</td>\n",
       "    </tr>\n",
       "    <tr>\n",
       "      <th>1</th>\n",
       "      <td>12347.0</td>\n",
       "      <td>6.0</td>\n",
       "      <td>365.0</td>\n",
       "      <td>367.0</td>\n",
       "      <td>599.701667</td>\n",
       "    </tr>\n",
       "    <tr>\n",
       "      <th>2</th>\n",
       "      <td>12348.0</td>\n",
       "      <td>3.0</td>\n",
       "      <td>283.0</td>\n",
       "      <td>358.0</td>\n",
       "      <td>301.480000</td>\n",
       "    </tr>\n",
       "    <tr>\n",
       "      <th>3</th>\n",
       "      <td>12349.0</td>\n",
       "      <td>0.0</td>\n",
       "      <td>0.0</td>\n",
       "      <td>18.0</td>\n",
       "      <td>0.000000</td>\n",
       "    </tr>\n",
       "    <tr>\n",
       "      <th>4</th>\n",
       "      <td>12350.0</td>\n",
       "      <td>0.0</td>\n",
       "      <td>0.0</td>\n",
       "      <td>310.0</td>\n",
       "      <td>0.000000</td>\n",
       "    </tr>\n",
       "  </tbody>\n",
       "</table>\n",
       "</div>"
      ],
      "text/plain": [
       "   CustomerID  frequency  recency      T  monetary_value\n",
       "0     12346.0        0.0      0.0  325.0        0.000000\n",
       "1     12347.0        6.0    365.0  367.0      599.701667\n",
       "2     12348.0        3.0    283.0  358.0      301.480000\n",
       "3     12349.0        0.0      0.0   18.0        0.000000\n",
       "4     12350.0        0.0      0.0  310.0        0.000000"
      ]
     },
     "execution_count": 7,
     "metadata": {},
     "output_type": "execute_result"
    }
   ],
   "source": [
    "from lifetimes.plotting import *\n",
    "from lifetimes.utils import *\n",
    "#Built-in utility functions from lifetimes package to transform the transactional data (one row per purchase) \n",
    "#into summary data (a frequency, recency, age and monetary).\n",
    "\n",
    "lf_tx_data = summary_data_from_transaction_data(tx_data, 'CustomerID', 'InvoiceDate', monetary_value_col='Total_Sales', observation_period_end='2011-12-9')\n",
    "lf_tx_data.reset_index().head()"
   ]
  },
  {
   "cell_type": "code",
   "execution_count": 8,
   "metadata": {},
   "outputs": [
    {
     "name": "stdout",
     "output_type": "stream",
     "text": [
      "count    4339.000000\n",
      "mean        2.864024\n",
      "std         5.952745\n",
      "min         0.000000\n",
      "25%         0.000000\n",
      "50%         1.000000\n",
      "75%         3.000000\n",
      "max       131.000000\n",
      "Name: frequency, dtype: float64\n",
      "---------------------------------------\n",
      "Percentage of customers purchase the item only once: 35.7 %\n"
     ]
    },
    {
     "data": {
      "image/png": "[encoded data removed]",
      "text/plain": [
       "<Figure size 640x480 with 1 Axes>"
      ]
     },
     "metadata": {},
     "output_type": "display_data"
    }
   ],
   "source": [
    "%matplotlib inline\n",
    "#Create histogram to find out how many customers purchased item only once.\n",
    "lf_tx_data['frequency'].plot(kind='hist', bins=50)\n",
    "print(lf_tx_data['frequency'].describe())\n",
    "print(\"---------------------------------------\")\n",
    "one_time_buyers = round(sum(lf_tx_data['frequency'] == 0)/float(len(lf_tx_data))*(100),2)\n",
    "print(\"Percentage of customers purchase the item only once:\", one_time_buyers ,\"%\")"
   ]
  },
  {
   "cell_type": "code",
   "execution_count": 9,
   "metadata": {},
   "outputs": [
    {
     "name": "stdout",
     "output_type": "stream",
     "text": [
      "<lifetimes.BetaGeoFitter: fitted with 4339 subjects, a: 0.00, alpha: 68.89, b: 6.75, r: 0.83>\n"
     ]
    }
   ],
   "source": [
    "#Frequency/Recency Analysis Using the BG/NBD Model\n",
    "from lifetimes import BetaGeoFitter\n",
    "bgf = BetaGeoFitter(penalizer_coef=0.0)\n",
    "bgf.fit(lf_tx_data['frequency'], lf_tx_data['recency'], lf_tx_data['T'])\n",
    "print(bgf)"
   ]
  },
  {
   "cell_type": "code",
   "execution_count": 10,
   "metadata": {},
   "outputs": [
    {
     "data": {
      "text/html": [
       "<div>\n",
       "<style scoped>\n",
       "    .dataframe tbody tr th:only-of-type {\n",
       "        vertical-align: middle;\n",
       "    }\n",
       "\n",
       "    .dataframe tbody tr th {\n",
       "        vertical-align: top;\n",
       "    }\n",
       "\n",
       "    .dataframe thead th {\n",
       "        text-align: right;\n",
       "    }\n",
       "</style>\n",
       "<table border=\"1\" class=\"dataframe\">\n",
       "  <thead>\n",
       "    <tr style=\"text-align: right;\">\n",
       "      <th></th>\n",
       "      <th>coef</th>\n",
       "      <th>se(coef)</th>\n",
       "      <th>lower 95% bound</th>\n",
       "      <th>upper 95% bound</th>\n",
       "    </tr>\n",
       "  </thead>\n",
       "  <tbody>\n",
       "    <tr>\n",
       "      <th>r</th>\n",
       "      <td>0.826433</td>\n",
       "      <td>0.026780</td>\n",
       "      <td>0.773944</td>\n",
       "      <td>0.878922</td>\n",
       "    </tr>\n",
       "    <tr>\n",
       "      <th>alpha</th>\n",
       "      <td>68.890678</td>\n",
       "      <td>2.611055</td>\n",
       "      <td>63.773011</td>\n",
       "      <td>74.008345</td>\n",
       "    </tr>\n",
       "    <tr>\n",
       "      <th>a</th>\n",
       "      <td>0.003443</td>\n",
       "      <td>0.010347</td>\n",
       "      <td>-0.016837</td>\n",
       "      <td>0.023722</td>\n",
       "    </tr>\n",
       "    <tr>\n",
       "      <th>b</th>\n",
       "      <td>6.749363</td>\n",
       "      <td>22.412933</td>\n",
       "      <td>-37.179985</td>\n",
       "      <td>50.678711</td>\n",
       "    </tr>\n",
       "  </tbody>\n",
       "</table>\n",
       "</div>"
      ],
      "text/plain": [
       "            coef   se(coef)  lower 95% bound  upper 95% bound\n",
       "r       0.826433   0.026780         0.773944         0.878922\n",
       "alpha  68.890678   2.611055        63.773011        74.008345\n",
       "a       0.003443   0.010347        -0.016837         0.023722\n",
       "b       6.749363  22.412933       -37.179985        50.678711"
      ]
     },
     "execution_count": 10,
     "metadata": {},
     "output_type": "execute_result"
    }
   ],
   "source": [
    "bgf.summary"
   ]
  },
  {
   "cell_type": "code",
   "execution_count": 11,
   "metadata": {},
   "outputs": [
    {
     "data": {
      "text/plain": [
       "<AxesSubplot:title={'center':'Expected Number of Future Purchases for 1 Unit of Time,\\nby Frequency and Recency of a Customer'}, xlabel=\"Customer's Historical Frequency\", ylabel=\"Customer's Recency\">"
      ]
     },
     "execution_count": 11,
     "metadata": {},
     "output_type": "execute_result"
    },
    {
     "data": {
      "image/png": "[encoded data removed]",
      "text/plain": [
       "<Figure size 1200x800 with 2 Axes>"
      ]
     },
     "metadata": {},
     "output_type": "display_data"
    }
   ],
   "source": [
    "#Visualizing our frequency/recency matrix\n",
    "%matplotlib inline\n",
    "import matplotlib.pyplot as plt\n",
    "from lifetimes.plotting import plot_frequency_recency_matrix\n",
    "fig = plt.figure(figsize=(12,8))\n",
    "plot_frequency_recency_matrix(bgf)"
   ]
  },
  {
   "cell_type": "code",
   "execution_count": 12,
   "metadata": {},
   "outputs": [
    {
     "data": {
      "text/plain": [
       "<AxesSubplot:title={'center':'Probability Customer is Alive,\\nby Frequency and Recency of a Customer'}, xlabel=\"Customer's Historical Frequency\", ylabel=\"Customer's Recency\">"
      ]
     },
     "execution_count": 12,
     "metadata": {},
     "output_type": "execute_result"
    },
    {
     "data": {
      "image/png": "[encoded data removed]",
      "text/plain": [
       "<Figure size 1200x800 with 2 Axes>"
      ]
     },
     "metadata": {},
     "output_type": "display_data"
    }
   ],
   "source": [
    "#predict if the customers are surely alive:\n",
    "from lifetimes.plotting import plot_probability_alive_matrix\n",
    "fig = plt.figure(figsize=(12,8))\n",
    "plot_probability_alive_matrix(bgf)"
   ]
  },
  {
   "cell_type": "code",
   "execution_count": 13,
   "metadata": {},
   "outputs": [
    {
     "data": {
      "text/html": [
       "<div>\n",
       "<style scoped>\n",
       "    .dataframe tbody tr th:only-of-type {\n",
       "        vertical-align: middle;\n",
       "    }\n",
       "\n",
       "    .dataframe tbody tr th {\n",
       "        vertical-align: top;\n",
       "    }\n",
       "\n",
       "    .dataframe thead th {\n",
       "        text-align: right;\n",
       "    }\n",
       "</style>\n",
       "<table border=\"1\" class=\"dataframe\">\n",
       "  <thead>\n",
       "    <tr style=\"text-align: right;\">\n",
       "      <th></th>\n",
       "      <th>CustomerID</th>\n",
       "      <th>frequency</th>\n",
       "      <th>recency</th>\n",
       "      <th>T</th>\n",
       "      <th>monetary_value</th>\n",
       "      <th>pred_num_txn</th>\n",
       "    </tr>\n",
       "  </thead>\n",
       "  <tbody>\n",
       "    <tr>\n",
       "      <th>0</th>\n",
       "      <td>14911.0</td>\n",
       "      <td>131.0</td>\n",
       "      <td>372.0</td>\n",
       "      <td>373.0</td>\n",
       "      <td>1093.661679</td>\n",
       "      <td>2.98</td>\n",
       "    </tr>\n",
       "    <tr>\n",
       "      <th>1</th>\n",
       "      <td>12748.0</td>\n",
       "      <td>113.0</td>\n",
       "      <td>373.0</td>\n",
       "      <td>373.0</td>\n",
       "      <td>298.360885</td>\n",
       "      <td>2.58</td>\n",
       "    </tr>\n",
       "    <tr>\n",
       "      <th>2</th>\n",
       "      <td>17841.0</td>\n",
       "      <td>111.0</td>\n",
       "      <td>372.0</td>\n",
       "      <td>373.0</td>\n",
       "      <td>364.452162</td>\n",
       "      <td>2.53</td>\n",
       "    </tr>\n",
       "    <tr>\n",
       "      <th>3</th>\n",
       "      <td>15311.0</td>\n",
       "      <td>89.0</td>\n",
       "      <td>373.0</td>\n",
       "      <td>373.0</td>\n",
       "      <td>677.729438</td>\n",
       "      <td>2.03</td>\n",
       "    </tr>\n",
       "    <tr>\n",
       "      <th>4</th>\n",
       "      <td>14606.0</td>\n",
       "      <td>88.0</td>\n",
       "      <td>372.0</td>\n",
       "      <td>373.0</td>\n",
       "      <td>135.890114</td>\n",
       "      <td>2.01</td>\n",
       "    </tr>\n",
       "    <tr>\n",
       "      <th>5</th>\n",
       "      <td>12971.0</td>\n",
       "      <td>70.0</td>\n",
       "      <td>369.0</td>\n",
       "      <td>372.0</td>\n",
       "      <td>159.211286</td>\n",
       "      <td>1.61</td>\n",
       "    </tr>\n",
       "    <tr>\n",
       "      <th>6</th>\n",
       "      <td>13089.0</td>\n",
       "      <td>65.0</td>\n",
       "      <td>367.0</td>\n",
       "      <td>369.0</td>\n",
       "      <td>893.714308</td>\n",
       "      <td>1.50</td>\n",
       "    </tr>\n",
       "    <tr>\n",
       "      <th>7</th>\n",
       "      <td>14527.0</td>\n",
       "      <td>53.0</td>\n",
       "      <td>367.0</td>\n",
       "      <td>369.0</td>\n",
       "      <td>155.016415</td>\n",
       "      <td>1.23</td>\n",
       "    </tr>\n",
       "    <tr>\n",
       "      <th>8</th>\n",
       "      <td>13798.0</td>\n",
       "      <td>52.0</td>\n",
       "      <td>371.0</td>\n",
       "      <td>372.0</td>\n",
       "      <td>706.650962</td>\n",
       "      <td>1.20</td>\n",
       "    </tr>\n",
       "    <tr>\n",
       "      <th>9</th>\n",
       "      <td>16422.0</td>\n",
       "      <td>47.0</td>\n",
       "      <td>352.0</td>\n",
       "      <td>369.0</td>\n",
       "      <td>702.472340</td>\n",
       "      <td>1.09</td>\n",
       "    </tr>\n",
       "  </tbody>\n",
       "</table>\n",
       "</div>"
      ],
      "text/plain": [
       "   CustomerID  frequency  recency      T  monetary_value  pred_num_txn\n",
       "0     14911.0      131.0    372.0  373.0     1093.661679          2.98\n",
       "1     12748.0      113.0    373.0  373.0      298.360885          2.58\n",
       "2     17841.0      111.0    372.0  373.0      364.452162          2.53\n",
       "3     15311.0       89.0    373.0  373.0      677.729438          2.03\n",
       "4     14606.0       88.0    372.0  373.0      135.890114          2.01\n",
       "5     12971.0       70.0    369.0  372.0      159.211286          1.61\n",
       "6     13089.0       65.0    367.0  369.0      893.714308          1.50\n",
       "7     14527.0       53.0    367.0  369.0      155.016415          1.23\n",
       "8     13798.0       52.0    371.0  372.0      706.650962          1.20\n",
       "9     16422.0       47.0    352.0  369.0      702.472340          1.09"
      ]
     },
     "execution_count": 13,
     "metadata": {},
     "output_type": "execute_result"
    }
   ],
   "source": [
    "#Predict future transaction in next 10 days i.e.top 10 customers that the model expects them to make purchases \n",
    "#in the next 10 days, based on historical data\n",
    "\n",
    "t = 10\n",
    "lf_tx_data['pred_num_txn'] = round(bgf.conditional_expected_number_of_purchases_up_to_time(t, lf_tx_data['frequency'], lf_tx_data['recency'], lf_tx_data['T']),2)\n",
    "lf_tx_data.sort_values(by='pred_num_txn', ascending=False).head(10).reset_index()"
   ]
  },
  {
   "cell_type": "code",
   "execution_count": 14,
   "metadata": {},
   "outputs": [
    {
     "data": {
      "text/plain": [
       "<AxesSubplot:title={'center':'Frequency of Repeat Transactions'}, xlabel='Number of Calibration Period Transactions', ylabel='Customers'>"
      ]
     },
     "execution_count": 14,
     "metadata": {},
     "output_type": "execute_result"
    },
    {
     "data": {
      "image/png": "[encoded data removed]",
      "text/plain": [
       "<Figure size 640x480 with 1 Axes>"
      ]
     },
     "metadata": {},
     "output_type": "display_data"
    }
   ],
   "source": [
    "#Assessing model fit\n",
    "from lifetimes.plotting import plot_period_transactions\n",
    "plot_period_transactions(bgf)"
   ]
  },
  {
   "cell_type": "code",
   "execution_count": 15,
   "metadata": {},
   "outputs": [
    {
     "data": {
      "text/plain": [
       "2.9830238639045317"
      ]
     },
     "execution_count": 15,
     "metadata": {},
     "output_type": "execute_result"
    }
   ],
   "source": [
    "#Customer's future transaction prediction for next 10 days\n",
    "\n",
    "t = 10\n",
    "individual = lf_tx_data.loc[14911]\n",
    "bgf.predict(t, individual['frequency'], individual['recency'], individual['T'])\n",
    "\n",
    "#OBSERVATION: Our model predicts that customer 14911’s future transaction is appx 3 in 10 days."
   ]
  },
  {
   "cell_type": "code",
   "execution_count": 16,
   "metadata": {},
   "outputs": [
    {
     "data": {
      "text/html": [
       "<div>\n",
       "<style scoped>\n",
       "    .dataframe tbody tr th:only-of-type {\n",
       "        vertical-align: middle;\n",
       "    }\n",
       "\n",
       "    .dataframe tbody tr th {\n",
       "        vertical-align: top;\n",
       "    }\n",
       "\n",
       "    .dataframe thead th {\n",
       "        text-align: right;\n",
       "    }\n",
       "</style>\n",
       "<table border=\"1\" class=\"dataframe\">\n",
       "  <thead>\n",
       "    <tr style=\"text-align: right;\">\n",
       "      <th></th>\n",
       "      <th>monetary_value</th>\n",
       "      <th>frequency</th>\n",
       "    </tr>\n",
       "  </thead>\n",
       "  <tbody>\n",
       "    <tr>\n",
       "      <th>monetary_value</th>\n",
       "      <td>1.000000</td>\n",
       "      <td>0.046161</td>\n",
       "    </tr>\n",
       "    <tr>\n",
       "      <th>frequency</th>\n",
       "      <td>0.046161</td>\n",
       "      <td>1.000000</td>\n",
       "    </tr>\n",
       "  </tbody>\n",
       "</table>\n",
       "</div>"
      ],
      "text/plain": [
       "                monetary_value  frequency\n",
       "monetary_value        1.000000   0.046161\n",
       "frequency             0.046161   1.000000"
      ]
     },
     "execution_count": 16,
     "metadata": {},
     "output_type": "execute_result"
    }
   ],
   "source": [
    "#Check if there is correlation between monetary value and frequency in order to use gamma gamma model for CLV calculation.\n",
    "lf_tx_data[['monetary_value', 'frequency']].corr()"
   ]
  },
  {
   "cell_type": "code",
   "execution_count": 17,
   "metadata": {},
   "outputs": [
    {
     "name": "stdout",
     "output_type": "stream",
     "text": [
      "   CustomerID  frequency  recency      T  monetary_value  pred_num_txn\n",
      "0     12347.0        6.0    365.0  367.0      599.701667          0.16\n",
      "1     12348.0        3.0    283.0  358.0      301.480000          0.09\n",
      "2     12352.0        6.0    260.0  296.0      368.256667          0.19\n",
      "3     12356.0        2.0    303.0  325.0      269.905000          0.07\n",
      "4     12358.0        1.0    149.0  150.0      683.200000          0.08\n",
      "-----------------------------------------\n",
      "The Number of Returning Customers are:  2790\n"
     ]
    }
   ],
   "source": [
    "#Shortlist customers who had at least one repeat purchase with the company. \n",
    "shortlisted_customers = lf_tx_data[lf_tx_data['frequency']>0]\n",
    "print(shortlisted_customers.head().reset_index())\n",
    "print(\"-----------------------------------------\")\n",
    "print(\"The Number of Returning Customers are: \",len(shortlisted_customers))"
   ]
  },
  {
   "cell_type": "code",
   "execution_count": 18,
   "metadata": {},
   "outputs": [
    {
     "name": "stdout",
     "output_type": "stream",
     "text": [
      "<lifetimes.GammaGammaFitter: fitted with 2790 subjects, p: 2.10, q: 3.45, v: 485.57>\n"
     ]
    }
   ],
   "source": [
    "#Train gamma-gamma model by taking into account the monetary_value.\n",
    "from lifetimes import GammaGammaFitter\n",
    "ggf = GammaGammaFitter(penalizer_coef = 0)\n",
    "ggf.fit(shortlisted_customers['frequency'],\n",
    "        shortlisted_customers['monetary_value'])\n",
    "print(ggf)"
   ]
  },
  {
   "cell_type": "code",
   "execution_count": 19,
   "metadata": {},
   "outputs": [
    {
     "name": "stdout",
     "output_type": "stream",
     "text": [
      "CustomerID\n",
      "12346.0    416.917667\n",
      "12347.0    569.988807\n",
      "12348.0    333.762672\n",
      "12349.0    416.917667\n",
      "12350.0    416.917667\n",
      "12352.0    376.166864\n",
      "12353.0    416.917667\n",
      "12354.0    416.917667\n",
      "12355.0    416.917667\n",
      "12356.0    324.008941\n",
      "dtype: float64\n"
     ]
    }
   ],
   "source": [
    "#After applying Gamma-Gamma model, now we can estimate average transaction value for each customer. \n",
    "print(ggf.conditional_expected_average_profit(\n",
    "        lf_tx_data['frequency'],\n",
    "        lf_tx_data['monetary_value']\n",
    "    ).head(10))"
   ]
  },
  {
   "cell_type": "code",
   "execution_count": 20,
   "metadata": {},
   "outputs": [
    {
     "data": {
      "text/html": [
       "<div>\n",
       "<style scoped>\n",
       "    .dataframe tbody tr th:only-of-type {\n",
       "        vertical-align: middle;\n",
       "    }\n",
       "\n",
       "    .dataframe tbody tr th {\n",
       "        vertical-align: top;\n",
       "    }\n",
       "\n",
       "    .dataframe thead th {\n",
       "        text-align: right;\n",
       "    }\n",
       "</style>\n",
       "<table border=\"1\" class=\"dataframe\">\n",
       "  <thead>\n",
       "    <tr style=\"text-align: right;\">\n",
       "      <th></th>\n",
       "      <th>CustomerID</th>\n",
       "      <th>frequency</th>\n",
       "      <th>recency</th>\n",
       "      <th>T</th>\n",
       "      <th>monetary_value</th>\n",
       "      <th>pred_num_txn</th>\n",
       "      <th>pred_txn_value</th>\n",
       "    </tr>\n",
       "  </thead>\n",
       "  <tbody>\n",
       "    <tr>\n",
       "      <th>0</th>\n",
       "      <td>12346.0</td>\n",
       "      <td>0.0</td>\n",
       "      <td>0.0</td>\n",
       "      <td>325.0</td>\n",
       "      <td>0.000000</td>\n",
       "      <td>0.02</td>\n",
       "      <td>416.92</td>\n",
       "    </tr>\n",
       "    <tr>\n",
       "      <th>1</th>\n",
       "      <td>12347.0</td>\n",
       "      <td>6.0</td>\n",
       "      <td>365.0</td>\n",
       "      <td>367.0</td>\n",
       "      <td>599.701667</td>\n",
       "      <td>0.16</td>\n",
       "      <td>569.99</td>\n",
       "    </tr>\n",
       "    <tr>\n",
       "      <th>2</th>\n",
       "      <td>12348.0</td>\n",
       "      <td>3.0</td>\n",
       "      <td>283.0</td>\n",
       "      <td>358.0</td>\n",
       "      <td>301.480000</td>\n",
       "      <td>0.09</td>\n",
       "      <td>333.76</td>\n",
       "    </tr>\n",
       "    <tr>\n",
       "      <th>3</th>\n",
       "      <td>12349.0</td>\n",
       "      <td>0.0</td>\n",
       "      <td>0.0</td>\n",
       "      <td>18.0</td>\n",
       "      <td>0.000000</td>\n",
       "      <td>0.10</td>\n",
       "      <td>416.92</td>\n",
       "    </tr>\n",
       "    <tr>\n",
       "      <th>4</th>\n",
       "      <td>12350.0</td>\n",
       "      <td>0.0</td>\n",
       "      <td>0.0</td>\n",
       "      <td>310.0</td>\n",
       "      <td>0.000000</td>\n",
       "      <td>0.02</td>\n",
       "      <td>416.92</td>\n",
       "    </tr>\n",
       "  </tbody>\n",
       "</table>\n",
       "</div>"
      ],
      "text/plain": [
       "   CustomerID  frequency  recency      T  monetary_value  pred_num_txn  \\\n",
       "0     12346.0        0.0      0.0  325.0        0.000000          0.02   \n",
       "1     12347.0        6.0    365.0  367.0      599.701667          0.16   \n",
       "2     12348.0        3.0    283.0  358.0      301.480000          0.09   \n",
       "3     12349.0        0.0      0.0   18.0        0.000000          0.10   \n",
       "4     12350.0        0.0      0.0  310.0        0.000000          0.02   \n",
       "\n",
       "   pred_txn_value  \n",
       "0          416.92  \n",
       "1          569.99  \n",
       "2          333.76  \n",
       "3          416.92  \n",
       "4          416.92  "
      ]
     },
     "execution_count": 20,
     "metadata": {},
     "output_type": "execute_result"
    }
   ],
   "source": [
    "lf_tx_data['pred_txn_value'] = round(ggf.conditional_expected_average_profit(\n",
    "        lf_tx_data['frequency'],\n",
    "        lf_tx_data['monetary_value']), 2)\n",
    "lf_tx_data.reset_index().head()"
   ]
  },
  {
   "cell_type": "code",
   "execution_count": 21,
   "metadata": {},
   "outputs": [
    {
     "data": {
      "text/html": [
       "<div>\n",
       "<style scoped>\n",
       "    .dataframe tbody tr th:only-of-type {\n",
       "        vertical-align: middle;\n",
       "    }\n",
       "\n",
       "    .dataframe tbody tr th {\n",
       "        vertical-align: top;\n",
       "    }\n",
       "\n",
       "    .dataframe thead th {\n",
       "        text-align: right;\n",
       "    }\n",
       "</style>\n",
       "<table border=\"1\" class=\"dataframe\">\n",
       "  <thead>\n",
       "    <tr style=\"text-align: right;\">\n",
       "      <th></th>\n",
       "      <th>CustomerID</th>\n",
       "      <th>CLV</th>\n",
       "    </tr>\n",
       "  </thead>\n",
       "  <tbody>\n",
       "    <tr>\n",
       "      <th>0</th>\n",
       "      <td>14646.0</td>\n",
       "      <td>222128.93</td>\n",
       "    </tr>\n",
       "    <tr>\n",
       "      <th>1</th>\n",
       "      <td>18102.0</td>\n",
       "      <td>178895.33</td>\n",
       "    </tr>\n",
       "    <tr>\n",
       "      <th>2</th>\n",
       "      <td>16446.0</td>\n",
       "      <td>175531.47</td>\n",
       "    </tr>\n",
       "    <tr>\n",
       "      <th>3</th>\n",
       "      <td>17450.0</td>\n",
       "      <td>147476.62</td>\n",
       "    </tr>\n",
       "    <tr>\n",
       "      <th>4</th>\n",
       "      <td>14096.0</td>\n",
       "      <td>127589.20</td>\n",
       "    </tr>\n",
       "    <tr>\n",
       "      <th>5</th>\n",
       "      <td>14911.0</td>\n",
       "      <td>109442.13</td>\n",
       "    </tr>\n",
       "    <tr>\n",
       "      <th>6</th>\n",
       "      <td>12415.0</td>\n",
       "      <td>96290.23</td>\n",
       "    </tr>\n",
       "    <tr>\n",
       "      <th>7</th>\n",
       "      <td>14156.0</td>\n",
       "      <td>89410.33</td>\n",
       "    </tr>\n",
       "    <tr>\n",
       "      <th>8</th>\n",
       "      <td>17511.0</td>\n",
       "      <td>67660.41</td>\n",
       "    </tr>\n",
       "    <tr>\n",
       "      <th>9</th>\n",
       "      <td>16029.0</td>\n",
       "      <td>58729.62</td>\n",
       "    </tr>\n",
       "  </tbody>\n",
       "</table>\n",
       "</div>"
      ],
      "text/plain": [
       "   CustomerID        CLV\n",
       "0     14646.0  222128.93\n",
       "1     18102.0  178895.33\n",
       "2     16446.0  175531.47\n",
       "3     17450.0  147476.62\n",
       "4     14096.0  127589.20\n",
       "5     14911.0  109442.13\n",
       "6     12415.0   96290.23\n",
       "7     14156.0   89410.33\n",
       "8     17511.0   67660.41\n",
       "9     16029.0   58729.62"
      ]
     },
     "execution_count": 21,
     "metadata": {},
     "output_type": "execute_result"
    }
   ],
   "source": [
    "#Calculate Customer Lifetime Value\n",
    "lf_tx_data['CLV'] = round(ggf.customer_lifetime_value(\n",
    "    bgf, #the model to use to predict the number of future transactions\n",
    "    lf_tx_data['frequency'],\n",
    "    lf_tx_data['recency'],\n",
    "    lf_tx_data['T'],\n",
    "    lf_tx_data['monetary_value'],\n",
    "    time=12, # months\n",
    "    discount_rate=0.01 # monthly discount rate ~ 12.7% annually\n",
    "), 2)\n",
    "\n",
    "#lf_tx_data.drop(lf_tx_data.iloc[:, 0:6], inplace=True, axis=1)\n",
    "\n",
    "lf_tx_data_trunc =lf_tx_data.drop(lf_tx_data.iloc[:, 0:6], axis=1)\n",
    "\n",
    "lf_tx_data_trunc.sort_values(by='CLV', ascending=False).head(10).reset_index()"
   ]
  },
  {
   "cell_type": "code",
   "execution_count": 22,
   "metadata": {
    "scrolled": true
   },
   "outputs": [
    {
     "data": {
      "text/html": [
       "<div>\n",
       "<style scoped>\n",
       "    .dataframe tbody tr th:only-of-type {\n",
       "        vertical-align: middle;\n",
       "    }\n",
       "\n",
       "    .dataframe tbody tr th {\n",
       "        vertical-align: top;\n",
       "    }\n",
       "\n",
       "    .dataframe thead th {\n",
       "        text-align: right;\n",
       "    }\n",
       "</style>\n",
       "<table border=\"1\" class=\"dataframe\">\n",
       "  <thead>\n",
       "    <tr style=\"text-align: right;\">\n",
       "      <th></th>\n",
       "      <th>frequency</th>\n",
       "      <th>recency</th>\n",
       "      <th>T</th>\n",
       "      <th>monetary_value</th>\n",
       "      <th>pred_num_txn</th>\n",
       "      <th>pred_txn_value</th>\n",
       "      <th>CLV</th>\n",
       "    </tr>\n",
       "    <tr>\n",
       "      <th>CustomerID</th>\n",
       "      <th></th>\n",
       "      <th></th>\n",
       "      <th></th>\n",
       "      <th></th>\n",
       "      <th></th>\n",
       "      <th></th>\n",
       "      <th></th>\n",
       "    </tr>\n",
       "  </thead>\n",
       "  <tbody>\n",
       "    <tr>\n",
       "      <th>12346.0</th>\n",
       "      <td>0.0</td>\n",
       "      <td>0.0</td>\n",
       "      <td>325.0</td>\n",
       "      <td>0.000000</td>\n",
       "      <td>0.02</td>\n",
       "      <td>416.92</td>\n",
       "      <td>295.25</td>\n",
       "    </tr>\n",
       "    <tr>\n",
       "      <th>12347.0</th>\n",
       "      <td>6.0</td>\n",
       "      <td>365.0</td>\n",
       "      <td>367.0</td>\n",
       "      <td>599.701667</td>\n",
       "      <td>0.16</td>\n",
       "      <td>569.99</td>\n",
       "      <td>3010.93</td>\n",
       "    </tr>\n",
       "    <tr>\n",
       "      <th>12348.0</th>\n",
       "      <td>3.0</td>\n",
       "      <td>283.0</td>\n",
       "      <td>358.0</td>\n",
       "      <td>301.480000</td>\n",
       "      <td>0.09</td>\n",
       "      <td>333.76</td>\n",
       "      <td>1008.69</td>\n",
       "    </tr>\n",
       "    <tr>\n",
       "      <th>12349.0</th>\n",
       "      <td>0.0</td>\n",
       "      <td>0.0</td>\n",
       "      <td>18.0</td>\n",
       "      <td>0.000000</td>\n",
       "      <td>0.10</td>\n",
       "      <td>416.92</td>\n",
       "      <td>1337.11</td>\n",
       "    </tr>\n",
       "    <tr>\n",
       "      <th>12350.0</th>\n",
       "      <td>0.0</td>\n",
       "      <td>0.0</td>\n",
       "      <td>310.0</td>\n",
       "      <td>0.000000</td>\n",
       "      <td>0.02</td>\n",
       "      <td>416.92</td>\n",
       "      <td>306.93</td>\n",
       "    </tr>\n",
       "    <tr>\n",
       "      <th>12352.0</th>\n",
       "      <td>6.0</td>\n",
       "      <td>260.0</td>\n",
       "      <td>296.0</td>\n",
       "      <td>368.256667</td>\n",
       "      <td>0.19</td>\n",
       "      <td>376.17</td>\n",
       "      <td>2372.74</td>\n",
       "    </tr>\n",
       "    <tr>\n",
       "      <th>12353.0</th>\n",
       "      <td>0.0</td>\n",
       "      <td>0.0</td>\n",
       "      <td>204.0</td>\n",
       "      <td>0.000000</td>\n",
       "      <td>0.03</td>\n",
       "      <td>416.92</td>\n",
       "      <td>426.10</td>\n",
       "    </tr>\n",
       "    <tr>\n",
       "      <th>12354.0</th>\n",
       "      <td>0.0</td>\n",
       "      <td>0.0</td>\n",
       "      <td>232.0</td>\n",
       "      <td>0.000000</td>\n",
       "      <td>0.03</td>\n",
       "      <td>416.92</td>\n",
       "      <td>386.46</td>\n",
       "    </tr>\n",
       "    <tr>\n",
       "      <th>12355.0</th>\n",
       "      <td>0.0</td>\n",
       "      <td>0.0</td>\n",
       "      <td>214.0</td>\n",
       "      <td>0.000000</td>\n",
       "      <td>0.03</td>\n",
       "      <td>416.92</td>\n",
       "      <td>411.04</td>\n",
       "    </tr>\n",
       "    <tr>\n",
       "      <th>12356.0</th>\n",
       "      <td>2.0</td>\n",
       "      <td>303.0</td>\n",
       "      <td>325.0</td>\n",
       "      <td>269.905000</td>\n",
       "      <td>0.07</td>\n",
       "      <td>324.01</td>\n",
       "      <td>784.16</td>\n",
       "    </tr>\n",
       "  </tbody>\n",
       "</table>\n",
       "</div>"
      ],
      "text/plain": [
       "            frequency  recency      T  monetary_value  pred_num_txn  \\\n",
       "CustomerID                                                            \n",
       "12346.0           0.0      0.0  325.0        0.000000          0.02   \n",
       "12347.0           6.0    365.0  367.0      599.701667          0.16   \n",
       "12348.0           3.0    283.0  358.0      301.480000          0.09   \n",
       "12349.0           0.0      0.0   18.0        0.000000          0.10   \n",
       "12350.0           0.0      0.0  310.0        0.000000          0.02   \n",
       "12352.0           6.0    260.0  296.0      368.256667          0.19   \n",
       "12353.0           0.0      0.0  204.0        0.000000          0.03   \n",
       "12354.0           0.0      0.0  232.0        0.000000          0.03   \n",
       "12355.0           0.0      0.0  214.0        0.000000          0.03   \n",
       "12356.0           2.0    303.0  325.0      269.905000          0.07   \n",
       "\n",
       "            pred_txn_value      CLV  \n",
       "CustomerID                           \n",
       "12346.0             416.92   295.25  \n",
       "12347.0             569.99  3010.93  \n",
       "12348.0             333.76  1008.69  \n",
       "12349.0             416.92  1337.11  \n",
       "12350.0             416.92   306.93  \n",
       "12352.0             376.17  2372.74  \n",
       "12353.0             416.92   426.10  \n",
       "12354.0             416.92   386.46  \n",
       "12355.0             416.92   411.04  \n",
       "12356.0             324.01   784.16  "
      ]
     },
     "execution_count": 22,
     "metadata": {},
     "output_type": "execute_result"
    }
   ],
   "source": [
    "lf_tx_data.head(10)"
   ]
  },
  {
   "cell_type": "code",
   "execution_count": 38,
   "metadata": {},
   "outputs": [
    {
     "data": {
      "text/plain": [
       "count      4339.000000\n",
       "mean       1993.090825\n",
       "std        7120.369626\n",
       "min         263.190000\n",
       "25%         593.365000\n",
       "50%        1028.340000\n",
       "75%        1744.515000\n",
       "max      222128.930000\n",
       "Name: CLV, dtype: float64"
      ]
     },
     "execution_count": 38,
     "metadata": {},
     "output_type": "execute_result"
    }
   ],
   "source": [
    "lf_tx_data['CLV'].describe()"
   ]
  },
  {
   "cell_type": "code",
   "execution_count": 36,
   "metadata": {
    "scrolled": true
   },
   "outputs": [
    {
     "data": {
      "image/png": "[encoded data removed]",
      "text/plain": [
       "<Figure size 500x500 with 1 Axes>"
      ]
     },
     "metadata": {},
     "output_type": "display_data"
    }
   ],
   "source": [
    "import seaborn as sns\n",
    "CLV_Plot = lf_tx_data['CLV']\n",
    "ax = sns.displot(CLV_Plot)"
   ]
  },
  {
   "cell_type": "code",
   "execution_count": 37,
   "metadata": {},
   "outputs": [
    {
     "data": {
      "text/plain": [
       "CustomerID\n",
       "12346.0     295.25\n",
       "12347.0    3010.93\n",
       "12348.0    1008.69\n",
       "12349.0    1337.11\n",
       "12350.0     306.93\n",
       "            ...   \n",
       "18280.0     336.20\n",
       "18281.0     467.17\n",
       "18282.0     822.39\n",
       "18283.0    2005.02\n",
       "18287.0    1737.69\n",
       "Name: CLV, Length: 4339, dtype: float64"
      ]
     },
     "execution_count": 37,
     "metadata": {},
     "output_type": "execute_result"
    }
   ],
   "source": []
  },
  {
   "cell_type": "markdown",
   "metadata": {},
   "source": [
    "#### Under standing lifetime value in context of segmentation\n",
    "\n",
    "An interesting further analysis is segmenting customer life time value using Kmeans, and exploring if there are natural groupings of customers based on this indicator. "
   ]
  },
  {
   "cell_type": "code",
   "execution_count": 34,
   "metadata": {},
   "outputs": [],
   "source": [
    "# In this analysis I am clustering only on customer life time value (CLV) but need another variable to pass into the \n",
    "# algorithm. I can accomplish this by also passing a vector of zeros along with CLV. \n",
    "lf_tx_data['zeros'] = 0"
   ]
  },
  {
   "cell_type": "code",
   "execution_count": 24,
   "metadata": {
    "scrolled": true
   },
   "outputs": [
    {
     "data": {
      "text/html": [
       "<div>\n",
       "<style scoped>\n",
       "    .dataframe tbody tr th:only-of-type {\n",
       "        vertical-align: middle;\n",
       "    }\n",
       "\n",
       "    .dataframe tbody tr th {\n",
       "        vertical-align: top;\n",
       "    }\n",
       "\n",
       "    .dataframe thead th {\n",
       "        text-align: right;\n",
       "    }\n",
       "</style>\n",
       "<table border=\"1\" class=\"dataframe\">\n",
       "  <thead>\n",
       "    <tr style=\"text-align: right;\">\n",
       "      <th></th>\n",
       "      <th>frequency</th>\n",
       "      <th>recency</th>\n",
       "      <th>T</th>\n",
       "      <th>monetary_value</th>\n",
       "      <th>pred_num_txn</th>\n",
       "      <th>pred_txn_value</th>\n",
       "      <th>CLV</th>\n",
       "      <th>zeros</th>\n",
       "    </tr>\n",
       "    <tr>\n",
       "      <th>CustomerID</th>\n",
       "      <th></th>\n",
       "      <th></th>\n",
       "      <th></th>\n",
       "      <th></th>\n",
       "      <th></th>\n",
       "      <th></th>\n",
       "      <th></th>\n",
       "      <th></th>\n",
       "    </tr>\n",
       "  </thead>\n",
       "  <tbody>\n",
       "    <tr>\n",
       "      <th>12346.0</th>\n",
       "      <td>0.0</td>\n",
       "      <td>0.0</td>\n",
       "      <td>325.0</td>\n",
       "      <td>0.000000</td>\n",
       "      <td>0.02</td>\n",
       "      <td>416.92</td>\n",
       "      <td>295.25</td>\n",
       "      <td>0</td>\n",
       "    </tr>\n",
       "    <tr>\n",
       "      <th>12347.0</th>\n",
       "      <td>6.0</td>\n",
       "      <td>365.0</td>\n",
       "      <td>367.0</td>\n",
       "      <td>599.701667</td>\n",
       "      <td>0.16</td>\n",
       "      <td>569.99</td>\n",
       "      <td>3010.93</td>\n",
       "      <td>0</td>\n",
       "    </tr>\n",
       "    <tr>\n",
       "      <th>12348.0</th>\n",
       "      <td>3.0</td>\n",
       "      <td>283.0</td>\n",
       "      <td>358.0</td>\n",
       "      <td>301.480000</td>\n",
       "      <td>0.09</td>\n",
       "      <td>333.76</td>\n",
       "      <td>1008.69</td>\n",
       "      <td>0</td>\n",
       "    </tr>\n",
       "    <tr>\n",
       "      <th>12349.0</th>\n",
       "      <td>0.0</td>\n",
       "      <td>0.0</td>\n",
       "      <td>18.0</td>\n",
       "      <td>0.000000</td>\n",
       "      <td>0.10</td>\n",
       "      <td>416.92</td>\n",
       "      <td>1337.11</td>\n",
       "      <td>0</td>\n",
       "    </tr>\n",
       "    <tr>\n",
       "      <th>12350.0</th>\n",
       "      <td>0.0</td>\n",
       "      <td>0.0</td>\n",
       "      <td>310.0</td>\n",
       "      <td>0.000000</td>\n",
       "      <td>0.02</td>\n",
       "      <td>416.92</td>\n",
       "      <td>306.93</td>\n",
       "      <td>0</td>\n",
       "    </tr>\n",
       "    <tr>\n",
       "      <th>...</th>\n",
       "      <td>...</td>\n",
       "      <td>...</td>\n",
       "      <td>...</td>\n",
       "      <td>...</td>\n",
       "      <td>...</td>\n",
       "      <td>...</td>\n",
       "      <td>...</td>\n",
       "      <td>...</td>\n",
       "    </tr>\n",
       "    <tr>\n",
       "      <th>18280.0</th>\n",
       "      <td>0.0</td>\n",
       "      <td>0.0</td>\n",
       "      <td>277.0</td>\n",
       "      <td>0.000000</td>\n",
       "      <td>0.02</td>\n",
       "      <td>416.92</td>\n",
       "      <td>336.20</td>\n",
       "      <td>0</td>\n",
       "    </tr>\n",
       "    <tr>\n",
       "      <th>18281.0</th>\n",
       "      <td>0.0</td>\n",
       "      <td>0.0</td>\n",
       "      <td>180.0</td>\n",
       "      <td>0.000000</td>\n",
       "      <td>0.03</td>\n",
       "      <td>416.92</td>\n",
       "      <td>467.17</td>\n",
       "      <td>0</td>\n",
       "    </tr>\n",
       "    <tr>\n",
       "      <th>18282.0</th>\n",
       "      <td>1.0</td>\n",
       "      <td>119.0</td>\n",
       "      <td>126.0</td>\n",
       "      <td>77.840000</td>\n",
       "      <td>0.09</td>\n",
       "      <td>260.28</td>\n",
       "      <td>822.39</td>\n",
       "      <td>0</td>\n",
       "    </tr>\n",
       "    <tr>\n",
       "      <th>18283.0</th>\n",
       "      <td>13.0</td>\n",
       "      <td>334.0</td>\n",
       "      <td>337.0</td>\n",
       "      <td>152.802308</td>\n",
       "      <td>0.34</td>\n",
       "      <td>174.52</td>\n",
       "      <td>2005.02</td>\n",
       "      <td>0</td>\n",
       "    </tr>\n",
       "    <tr>\n",
       "      <th>18287.0</th>\n",
       "      <td>2.0</td>\n",
       "      <td>159.0</td>\n",
       "      <td>201.0</td>\n",
       "      <td>536.000000</td>\n",
       "      <td>0.10</td>\n",
       "      <td>492.18</td>\n",
       "      <td>1737.69</td>\n",
       "      <td>0</td>\n",
       "    </tr>\n",
       "  </tbody>\n",
       "</table>\n",
       "<p>4339 rows × 8 columns</p>\n",
       "</div>"
      ],
      "text/plain": [
       "            frequency  recency      T  monetary_value  pred_num_txn  \\\n",
       "CustomerID                                                            \n",
       "12346.0           0.0      0.0  325.0        0.000000          0.02   \n",
       "12347.0           6.0    365.0  367.0      599.701667          0.16   \n",
       "12348.0           3.0    283.0  358.0      301.480000          0.09   \n",
       "12349.0           0.0      0.0   18.0        0.000000          0.10   \n",
       "12350.0           0.0      0.0  310.0        0.000000          0.02   \n",
       "...               ...      ...    ...             ...           ...   \n",
       "18280.0           0.0      0.0  277.0        0.000000          0.02   \n",
       "18281.0           0.0      0.0  180.0        0.000000          0.03   \n",
       "18282.0           1.0    119.0  126.0       77.840000          0.09   \n",
       "18283.0          13.0    334.0  337.0      152.802308          0.34   \n",
       "18287.0           2.0    159.0  201.0      536.000000          0.10   \n",
       "\n",
       "            pred_txn_value      CLV  zeros  \n",
       "CustomerID                                  \n",
       "12346.0             416.92   295.25      0  \n",
       "12347.0             569.99  3010.93      0  \n",
       "12348.0             333.76  1008.69      0  \n",
       "12349.0             416.92  1337.11      0  \n",
       "12350.0             416.92   306.93      0  \n",
       "...                    ...      ...    ...  \n",
       "18280.0             416.92   336.20      0  \n",
       "18281.0             416.92   467.17      0  \n",
       "18282.0             260.28   822.39      0  \n",
       "18283.0             174.52  2005.02      0  \n",
       "18287.0             492.18  1737.69      0  \n",
       "\n",
       "[4339 rows x 8 columns]"
      ]
     },
     "execution_count": 24,
     "metadata": {},
     "output_type": "execute_result"
    }
   ],
   "source": [
    "lf_tx_data"
   ]
  },
  {
   "cell_type": "code",
   "execution_count": 25,
   "metadata": {},
   "outputs": [],
   "source": [
    "clv_segment_inputs = lf_tx_data[['zeros','CLV']]"
   ]
  },
  {
   "cell_type": "code",
   "execution_count": 26,
   "metadata": {},
   "outputs": [],
   "source": [
    "from yellowbrick.cluster import KElbowVisualizer\n",
    "from sklearn.cluster import KMeans"
   ]
  },
  {
   "cell_type": "markdown",
   "metadata": {},
   "source": [
    " "
   ]
  },
  {
   "cell_type": "code",
   "execution_count": 27,
   "metadata": {},
   "outputs": [
    {
     "data": {
      "image/png": "[encoded data removed]",
      "text/plain": [
       "<Figure size 800x550 with 2 Axes>"
      ]
     },
     "metadata": {},
     "output_type": "display_data"
    },
    {
     "data": {
      "text/plain": [
       "<AxesSubplot:title={'center':'Distortion Score Elbow for KMeans Clustering'}, xlabel='k', ylabel='distortion score'>"
      ]
     },
     "execution_count": 27,
     "metadata": {},
     "output_type": "execute_result"
    }
   ],
   "source": [
    "cluster_model = KMeans()\n",
    "\n",
    "visualizer = KElbowVisualizer(cluster_model, k=(1,10))\n",
    "\n",
    "cluster_visual = visualizer.fit(clv_segment_inputs) # Fit the data to the visualizer \n",
    "cluster_visual.show()"
   ]
  },
  {
   "cell_type": "code",
   "execution_count": 28,
   "metadata": {},
   "outputs": [],
   "source": [
    "cluster_value = cluster_visual.elbow_value_\n",
    "kmeans = KMeans(n_clusters=cluster_value)\n",
    "kmeans.fit(clv_segment_inputs)\n",
    "lf_tx_data['CLV clusters'] = kmeans.labels_.astype(int)"
   ]
  },
  {
   "cell_type": "code",
   "execution_count": 29,
   "metadata": {
    "scrolled": true
   },
   "outputs": [
    {
     "data": {
      "text/html": [
       "<div>\n",
       "<style scoped>\n",
       "    .dataframe tbody tr th:only-of-type {\n",
       "        vertical-align: middle;\n",
       "    }\n",
       "\n",
       "    .dataframe tbody tr th {\n",
       "        vertical-align: top;\n",
       "    }\n",
       "\n",
       "    .dataframe thead th {\n",
       "        text-align: right;\n",
       "    }\n",
       "</style>\n",
       "<table border=\"1\" class=\"dataframe\">\n",
       "  <thead>\n",
       "    <tr style=\"text-align: right;\">\n",
       "      <th></th>\n",
       "      <th>frequency</th>\n",
       "      <th>recency</th>\n",
       "      <th>T</th>\n",
       "      <th>monetary_value</th>\n",
       "      <th>pred_num_txn</th>\n",
       "      <th>pred_txn_value</th>\n",
       "      <th>CLV</th>\n",
       "      <th>zeros</th>\n",
       "      <th>CLV clusters</th>\n",
       "    </tr>\n",
       "    <tr>\n",
       "      <th>CustomerID</th>\n",
       "      <th></th>\n",
       "      <th></th>\n",
       "      <th></th>\n",
       "      <th></th>\n",
       "      <th></th>\n",
       "      <th></th>\n",
       "      <th></th>\n",
       "      <th></th>\n",
       "      <th></th>\n",
       "    </tr>\n",
       "  </thead>\n",
       "  <tbody>\n",
       "    <tr>\n",
       "      <th>12346.0</th>\n",
       "      <td>0.0</td>\n",
       "      <td>0.0</td>\n",
       "      <td>325.0</td>\n",
       "      <td>0.000000</td>\n",
       "      <td>0.02</td>\n",
       "      <td>416.92</td>\n",
       "      <td>295.25</td>\n",
       "      <td>0</td>\n",
       "      <td>0</td>\n",
       "    </tr>\n",
       "    <tr>\n",
       "      <th>12347.0</th>\n",
       "      <td>6.0</td>\n",
       "      <td>365.0</td>\n",
       "      <td>367.0</td>\n",
       "      <td>599.701667</td>\n",
       "      <td>0.16</td>\n",
       "      <td>569.99</td>\n",
       "      <td>3010.93</td>\n",
       "      <td>0</td>\n",
       "      <td>0</td>\n",
       "    </tr>\n",
       "    <tr>\n",
       "      <th>12348.0</th>\n",
       "      <td>3.0</td>\n",
       "      <td>283.0</td>\n",
       "      <td>358.0</td>\n",
       "      <td>301.480000</td>\n",
       "      <td>0.09</td>\n",
       "      <td>333.76</td>\n",
       "      <td>1008.69</td>\n",
       "      <td>0</td>\n",
       "      <td>0</td>\n",
       "    </tr>\n",
       "    <tr>\n",
       "      <th>12349.0</th>\n",
       "      <td>0.0</td>\n",
       "      <td>0.0</td>\n",
       "      <td>18.0</td>\n",
       "      <td>0.000000</td>\n",
       "      <td>0.10</td>\n",
       "      <td>416.92</td>\n",
       "      <td>1337.11</td>\n",
       "      <td>0</td>\n",
       "      <td>0</td>\n",
       "    </tr>\n",
       "    <tr>\n",
       "      <th>12350.0</th>\n",
       "      <td>0.0</td>\n",
       "      <td>0.0</td>\n",
       "      <td>310.0</td>\n",
       "      <td>0.000000</td>\n",
       "      <td>0.02</td>\n",
       "      <td>416.92</td>\n",
       "      <td>306.93</td>\n",
       "      <td>0</td>\n",
       "      <td>0</td>\n",
       "    </tr>\n",
       "    <tr>\n",
       "      <th>...</th>\n",
       "      <td>...</td>\n",
       "      <td>...</td>\n",
       "      <td>...</td>\n",
       "      <td>...</td>\n",
       "      <td>...</td>\n",
       "      <td>...</td>\n",
       "      <td>...</td>\n",
       "      <td>...</td>\n",
       "      <td>...</td>\n",
       "    </tr>\n",
       "    <tr>\n",
       "      <th>18280.0</th>\n",
       "      <td>0.0</td>\n",
       "      <td>0.0</td>\n",
       "      <td>277.0</td>\n",
       "      <td>0.000000</td>\n",
       "      <td>0.02</td>\n",
       "      <td>416.92</td>\n",
       "      <td>336.20</td>\n",
       "      <td>0</td>\n",
       "      <td>0</td>\n",
       "    </tr>\n",
       "    <tr>\n",
       "      <th>18281.0</th>\n",
       "      <td>0.0</td>\n",
       "      <td>0.0</td>\n",
       "      <td>180.0</td>\n",
       "      <td>0.000000</td>\n",
       "      <td>0.03</td>\n",
       "      <td>416.92</td>\n",
       "      <td>467.17</td>\n",
       "      <td>0</td>\n",
       "      <td>0</td>\n",
       "    </tr>\n",
       "    <tr>\n",
       "      <th>18282.0</th>\n",
       "      <td>1.0</td>\n",
       "      <td>119.0</td>\n",
       "      <td>126.0</td>\n",
       "      <td>77.840000</td>\n",
       "      <td>0.09</td>\n",
       "      <td>260.28</td>\n",
       "      <td>822.39</td>\n",
       "      <td>0</td>\n",
       "      <td>0</td>\n",
       "    </tr>\n",
       "    <tr>\n",
       "      <th>18283.0</th>\n",
       "      <td>13.0</td>\n",
       "      <td>334.0</td>\n",
       "      <td>337.0</td>\n",
       "      <td>152.802308</td>\n",
       "      <td>0.34</td>\n",
       "      <td>174.52</td>\n",
       "      <td>2005.02</td>\n",
       "      <td>0</td>\n",
       "      <td>0</td>\n",
       "    </tr>\n",
       "    <tr>\n",
       "      <th>18287.0</th>\n",
       "      <td>2.0</td>\n",
       "      <td>159.0</td>\n",
       "      <td>201.0</td>\n",
       "      <td>536.000000</td>\n",
       "      <td>0.10</td>\n",
       "      <td>492.18</td>\n",
       "      <td>1737.69</td>\n",
       "      <td>0</td>\n",
       "      <td>0</td>\n",
       "    </tr>\n",
       "  </tbody>\n",
       "</table>\n",
       "<p>4339 rows × 9 columns</p>\n",
       "</div>"
      ],
      "text/plain": [
       "            frequency  recency      T  monetary_value  pred_num_txn  \\\n",
       "CustomerID                                                            \n",
       "12346.0           0.0      0.0  325.0        0.000000          0.02   \n",
       "12347.0           6.0    365.0  367.0      599.701667          0.16   \n",
       "12348.0           3.0    283.0  358.0      301.480000          0.09   \n",
       "12349.0           0.0      0.0   18.0        0.000000          0.10   \n",
       "12350.0           0.0      0.0  310.0        0.000000          0.02   \n",
       "...               ...      ...    ...             ...           ...   \n",
       "18280.0           0.0      0.0  277.0        0.000000          0.02   \n",
       "18281.0           0.0      0.0  180.0        0.000000          0.03   \n",
       "18282.0           1.0    119.0  126.0       77.840000          0.09   \n",
       "18283.0          13.0    334.0  337.0      152.802308          0.34   \n",
       "18287.0           2.0    159.0  201.0      536.000000          0.10   \n",
       "\n",
       "            pred_txn_value      CLV  zeros  CLV clusters  \n",
       "CustomerID                                                \n",
       "12346.0             416.92   295.25      0             0  \n",
       "12347.0             569.99  3010.93      0             0  \n",
       "12348.0             333.76  1008.69      0             0  \n",
       "12349.0             416.92  1337.11      0             0  \n",
       "12350.0             416.92   306.93      0             0  \n",
       "...                    ...      ...    ...           ...  \n",
       "18280.0             416.92   336.20      0             0  \n",
       "18281.0             416.92   467.17      0             0  \n",
       "18282.0             260.28   822.39      0             0  \n",
       "18283.0             174.52  2005.02      0             0  \n",
       "18287.0             492.18  1737.69      0             0  \n",
       "\n",
       "[4339 rows x 9 columns]"
      ]
     },
     "execution_count": 29,
     "metadata": {},
     "output_type": "execute_result"
    }
   ],
   "source": [
    "lf_tx_data"
   ]
  },
  {
   "cell_type": "code",
   "execution_count": 30,
   "metadata": {},
   "outputs": [
    {
     "data": {
      "text/plain": [
       "Text(0.5, 0, 'Customer Lifetime Value')"
      ]
     },
     "execution_count": 30,
     "metadata": {},
     "output_type": "execute_result"
    },
    {
     "data": {
      "image/png": "[encoded data removed]",
      "text/plain": [
       "<Figure size 1000x600 with 1 Axes>"
      ]
     },
     "metadata": {},
     "output_type": "display_data"
    }
   ],
   "source": [
    "plt.figure(figsize=(10,6))\n",
    "lf_tx_data[lf_tx_data['CLV clusters']==0]['CLV'].hist(alpha=0.5,color='blue',\n",
    "                                              bins=30,label='Cluster 0')\n",
    "lf_tx_data[lf_tx_data['CLV clusters']==1]['CLV'].hist(alpha=0.5,color='red',\n",
    "                                              bins=30,label='Cluster 1')\n",
    "lf_tx_data[lf_tx_data['CLV clusters']==2]['CLV'].hist(alpha=0.5,color='green',\n",
    "                                              bins=30,label='Cluster 2')\n",
    "plt.legend()\n",
    "plt.xlabel('Customer Lifetime Value')"
   ]
  },
  {
   "cell_type": "code",
   "execution_count": 31,
   "metadata": {},
   "outputs": [],
   "source": [
    "CLV_cluster_grouped = lf_tx_data.groupby(['CLV clusters'])"
   ]
  },
  {
   "cell_type": "code",
   "execution_count": 32,
   "metadata": {},
   "outputs": [],
   "source": [
    "import numpy as np"
   ]
  },
  {
   "cell_type": "code",
   "execution_count": 33,
   "metadata": {},
   "outputs": [
    {
     "data": {
      "text/html": [
       "<div>\n",
       "<style scoped>\n",
       "    .dataframe tbody tr th:only-of-type {\n",
       "        vertical-align: middle;\n",
       "    }\n",
       "\n",
       "    .dataframe tbody tr th {\n",
       "        vertical-align: top;\n",
       "    }\n",
       "\n",
       "    .dataframe thead th {\n",
       "        text-align: right;\n",
       "    }\n",
       "</style>\n",
       "<table border=\"1\" class=\"dataframe\">\n",
       "  <thead>\n",
       "    <tr style=\"text-align: right;\">\n",
       "      <th></th>\n",
       "      <th>count</th>\n",
       "      <th>mean</th>\n",
       "      <th>std</th>\n",
       "      <th>min</th>\n",
       "      <th>max</th>\n",
       "    </tr>\n",
       "    <tr>\n",
       "      <th>CLV clusters</th>\n",
       "      <th></th>\n",
       "      <th></th>\n",
       "      <th></th>\n",
       "      <th></th>\n",
       "      <th></th>\n",
       "    </tr>\n",
       "  </thead>\n",
       "  <tbody>\n",
       "    <tr>\n",
       "      <th>0</th>\n",
       "      <td>4309</td>\n",
       "      <td>1553</td>\n",
       "      <td>1830</td>\n",
       "      <td>263</td>\n",
       "      <td>20876</td>\n",
       "    </tr>\n",
       "    <tr>\n",
       "      <th>1</th>\n",
       "      <td>6</td>\n",
       "      <td>160177</td>\n",
       "      <td>40549</td>\n",
       "      <td>109442</td>\n",
       "      <td>222128</td>\n",
       "    </tr>\n",
       "    <tr>\n",
       "      <th>2</th>\n",
       "      <td>24</td>\n",
       "      <td>41407</td>\n",
       "      <td>19805</td>\n",
       "      <td>22713</td>\n",
       "      <td>96290</td>\n",
       "    </tr>\n",
       "  </tbody>\n",
       "</table>\n",
       "</div>"
      ],
      "text/plain": [
       "              count    mean    std     min     max\n",
       "CLV clusters                                      \n",
       "0              4309    1553   1830     263   20876\n",
       "1                 6  160177  40549  109442  222128\n",
       "2                24   41407  19805   22713   96290"
      ]
     },
     "execution_count": 33,
     "metadata": {},
     "output_type": "execute_result"
    }
   ],
   "source": [
    "CLV_cluster_grouped['CLV'].agg([np.ma.count,np.mean,np.std,min,max]).astype(int)"
   ]
  },
  {
   "cell_type": "code",
   "execution_count": null,
   "metadata": {},
   "outputs": [],
   "source": []
  }
 ],
 "metadata": {
  "kernelspec": {
   "display_name": "Python 3 (ipykernel)",
   "language": "python",
   "name": "python3"
  },
  "language_info": {
   "codemirror_mode": {
    "name": "ipython",
    "version": 3
   },
   "file_extension": ".py",
   "mimetype": "text/x-python",
   "name": "python",
   "nbconvert_exporter": "python",
   "pygments_lexer": "ipython3",
   "version": "3.9.13"
  }
 },
 "nbformat": 4,
 "nbformat_minor": 2
}
